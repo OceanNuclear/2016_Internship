{
 "cells": [
  {
   "cell_type": "code",
   "execution_count": 1,
   "metadata": {
    "collapsed": false
   },
   "outputs": [],
   "source": [
    "import matplotlib\n",
    "from matplotlib import pyplot as plt\n",
    "#%matplotlib notebook\n",
    "from mpl_toolkits.mplot3d import Axes3D"
   ]
  },
  {
   "cell_type": "code",
   "execution_count": 2,
   "metadata": {
    "collapsed": true
   },
   "outputs": [],
   "source": [
    "import numpy as np\n",
    "import scipy"
   ]
  },
  {
   "cell_type": "code",
   "execution_count": 3,
   "metadata": {
    "collapsed": false
   },
   "outputs": [],
   "source": [
    "from parse.event import parse_pattern\n",
    "from coordinates import ecef_to_enu, lla_to_ecef"
   ]
  },
  {
   "cell_type": "code",
   "execution_count": 4,
   "metadata": {
    "collapsed": false
   },
   "outputs": [],
   "source": [
    "# Begin program\n",
    "events2 = [e for e in parse_pattern(\"DroneData/live_2/data_[0-9]*.txt\") if \"prog_timestamp\" in e.fields]\n",
    "events2.sort(key=lambda e:e.fields['prog_timestamp'])"
   ]
  },
  {
   "cell_type": "code",
   "execution_count": 5,
   "metadata": {
    "collapsed": true
   },
   "outputs": [],
   "source": [
    "# Begin program\n",
    "events1 = [e for e in parse_pattern(\"DroneData/live_1/data[0-9]*.txt\") if \"prog_timestamp\" in e.fields]\n",
    "events1.sort(key=lambda e:e.fields['prog_timestamp'])"
   ]
  },
  {
   "cell_type": "code",
   "execution_count": 6,
   "metadata": {
    "collapsed": false
   },
   "outputs": [],
   "source": [
    "def visualise_events(events):\n",
    "    lats = np.empty(len(events))\n",
    "    lons = np.empty(len(events))\n",
    "    alts = np.empty(len(events))\n",
    "\n",
    "    for i, event in enumerate(events):\n",
    "        fields = event.fields\n",
    "        lats[i] = fields['latitude']['value']\n",
    "        lons[i] = fields['longitude']['value']\n",
    "        alts[i] = fields['altitude']['value']\n",
    "\n",
    "    lats = np.radians(lats)\n",
    "    lons = np.radians(lons)\n",
    "\n",
    "    xs_e, ys_e, zs_e = lla_to_ecef(lats, lons, alts)\n",
    "\n",
    "    lat_o = lats[0]\n",
    "    lon_o = lons[0]\n",
    "    alt_o = alts[0]\n",
    "\n",
    "    x_e_o = xs_e[0]\n",
    "    y_e_o = ys_e[0]\n",
    "    z_e_o = zs_e[0]\n",
    "\n",
    "    xs, ys, zs = ecef_to_enu(lat_o, lon_o, x_e_o, y_e_o, z_e_o, xs_e, ys_e, zs_e)\n",
    "    return xs, ys, zs"
   ]
  },
  {
   "cell_type": "code",
   "execution_count": null,
   "metadata": {
    "collapsed": false
   },
   "outputs": [],
   "source": [
    "# Plot 1\n",
    "fig = plt.figure()\n",
    "ax = fig.add_subplot(211, projection='3d')\n",
    "ax.set_title(\"Events 1\")\n",
    "ax.scatter(*visualise_events(events1))\n",
    "\n",
    "ax.set_xlabel('x')\n",
    "ax.set_ylabel('y')\n",
    "ax.set_zlabel('z')\n",
    "\n",
    "# Plot 2\n",
    "ax = fig.add_subplot(212, projection='3d')\n",
    "ax.set_title(\"Events 2\")\n",
    "ax.scatter(*visualise_events(events2))\n",
    "\n",
    "ax.set_xlabel('x')\n",
    "ax.set_ylabel('y')\n",
    "ax.set_zlabel('z')\n",
    "\n",
    "plt.show()\n"
   ]
  },
  {
   "cell_type": "code",
   "execution_count": null,
   "metadata": {
    "collapsed": true
   },
   "outputs": [],
   "source": [
    "\n"
   ]
  }
 ],
 "metadata": {
  "anaconda-cloud": {},
  "kernelspec": {
   "display_name": "Python [Root]",
   "language": "python",
   "name": "Python [Root]"
  },
  "language_info": {
   "codemirror_mode": {
    "name": "ipython",
    "version": 3
   },
   "file_extension": ".py",
   "mimetype": "text/x-python",
   "name": "python",
   "nbconvert_exporter": "python",
   "pygments_lexer": "ipython3",
   "version": "3.5.2"
  }
 },
 "nbformat": 4,
 "nbformat_minor": 0
}
